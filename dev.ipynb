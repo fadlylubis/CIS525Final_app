{
 "cells": [
  {
   "cell_type": "code",
   "execution_count": 2,
   "metadata": {},
   "outputs": [],
   "source": [
    "from deta import Deta\n",
    "from dotenv import load_dotenv\n",
    "import os\n",
    "from datetime import date\n",
    "import streamlit as st\n",
    "from database import conn, userAuth\n",
    "import streamlit_authenticator as stauth"
   ]
  },
  {
   "cell_type": "code",
   "execution_count": 3,
   "metadata": {},
   "outputs": [],
   "source": [
    "users = userAuth.fetch_all_users()\n",
    "\n",
    "usernames = [user[\"key\"] for user in users]\n",
    "names = [user[\"name\"] for user in users]\n",
    "hashed_passwords = [user[\"password\"] for user in users]"
   ]
  },
  {
   "cell_type": "code",
   "execution_count": 4,
   "metadata": {},
   "outputs": [
    {
     "name": "stdout",
     "output_type": "stream",
     "text": [
      "[{'key': 'alubis', 'name': 'Ashley', 'password': '$2b$12$kucKj7tymqBd4RRrq8Vj0.oZBc.lPjlTMINXeCv4bmVrVvtoSgUma'}, {'key': 'flubis', 'name': 'Fadly', 'password': '$2b$12$kucKj7tymqBd4RRrq8Vj0.oZBc.lPjlTMINXeCv4bmVrVvtoSgUma'}, {'key': 'rlubis', 'name': 'Rosie', 'password': '$2b$12$At3opAu76cABsFBoRcNEIu71xz/lHwyvHChXWryA97RJ85UxSSkAy'}]\n"
     ]
    }
   ],
   "source": [
    "print(users)"
   ]
  },
  {
   "cell_type": "code",
   "execution_count": 6,
   "metadata": {},
   "outputs": [
    {
     "name": "stdout",
     "output_type": "stream",
     "text": [
      "['Ashley', 'Fadly', 'Rosie']\n"
     ]
    }
   ],
   "source": [
    "print(names)"
   ]
  },
  {
   "cell_type": "code",
   "execution_count": null,
   "metadata": {},
   "outputs": [],
   "source": []
  }
 ],
 "metadata": {
  "kernelspec": {
   "display_name": "Python 3.10.8 ('CIS525_WebApp': venv)",
   "language": "python",
   "name": "python3"
  },
  "language_info": {
   "codemirror_mode": {
    "name": "ipython",
    "version": 3
   },
   "file_extension": ".py",
   "mimetype": "text/x-python",
   "name": "python",
   "nbconvert_exporter": "python",
   "pygments_lexer": "ipython3",
   "version": "3.10.8"
  },
  "orig_nbformat": 4,
  "vscode": {
   "interpreter": {
    "hash": "9a8b8ee46adc2d2a273dc58dd2612bf6808373d157fe70e0ea13fb0b306aaac2"
   }
  }
 },
 "nbformat": 4,
 "nbformat_minor": 2
}
